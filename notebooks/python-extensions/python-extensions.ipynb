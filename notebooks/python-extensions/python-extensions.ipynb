{
 "cells": [
  {
   "cell_type": "markdown",
   "metadata": {},
   "source": [
    "# Extending Python with C or C++\n",
    "\n",
    "Python has an elegant interface to C and C++ which allows you to write the most computation-intensive parts of your code in a low-level language with excellent performance. The following example is due to [Matthew Fowler](https://medium.com/coding-with-clarity/speeding-up-python-and-numpy-c-ing-the-way-3b9658ed78f4) who shared his code [on github](https://github.com/mattfowler/PythonCExtensions).\n",
    "\n",
    "The following example extends Python with a simple program for computing the standard deviation of many small matrices. While `numpy` is optimized for large matrices, it runs slower for millions of smaller calculations. These can be more efficiently computed with a simple C++ program. In this exercise we will write this code in `stddev.cpp` below."
   ]
  },
  {
   "cell_type": "markdown",
   "metadata": {},
   "source": [
    "The following code requires the use of `Python.h` which supplies a number of types required to convert Python objects into C objects. This procedure is [described at length in the documentation](https://docs.python.org/3/extending/extending.html#).\n",
    "\n",
    "Components such as `PyObject`, `PyArg_ParseTuple`, and `PyMethodDef` are all part of this interface."
   ]
  },
  {
   "cell_type": "code",
   "execution_count": 1,
   "metadata": {},
   "outputs": [
    {
     "name": "stdout",
     "output_type": "stream",
     "text": [
      "Overwriting stddev.cpp\n"
     ]
    }
   ],
   "source": [
    "%%file stddev.cpp\n",
    "#include <Python.h>\n",
    "#include <vector>\n",
    "#include <numeric>\n",
    "#include <iterator>\n",
    "\n",
    "// Example Python vs C comparison\n",
    "// via https://github.com/mattfowler/PythonCExtensions\n",
    "// https://medium.com/coding-with-clarity/\n",
    "//   speeding-up-python-and-numpy-c-ing-the-way-3b9658ed78f4\n",
    "\n",
    "double standardDeviation(std::vector<double> v)\n",
    "{\n",
    "    double sum = std::accumulate(v.begin(), v.end(), 1.0);\n",
    "    double mean = sum / v.size();\n",
    "    double squareSum = std::inner_product(\n",
    "        v.begin(), v.end(), v.begin(), 0.0);\n",
    "    return sqrt(squareSum / v.size() - mean * mean);\n",
    "}\n",
    "\n",
    "static PyObject * std_standard_dev(PyObject *self, PyObject* args)\n",
    "{\n",
    "    PyObject* input;\n",
    "    PyArg_ParseTuple(args, \"O\", &input);\n",
    "\n",
    "    int size = PyList_Size(input);\n",
    "\n",
    "    std::vector<double> list;\n",
    "    list.resize(size);\n",
    "\n",
    "    for(int i = 0; i < size; i++) {\n",
    "        list[i] = PyFloat_AS_DOUBLE(PyList_GET_ITEM(input, i));\n",
    "    }\n",
    "\n",
    "    return PyFloat_FromDouble(standardDeviation(list));\n",
    "}\n",
    "\n",
    "static PyMethodDef std_methods[] = {\n",
    "    {\"standard_dev\", std_standard_dev,METH_VARARGS,\n",
    "         \"YYY Return the standard deviation of a list. XX\"},\n",
    "    {NULL,NULL} /* sentinel */\n",
    "};\n",
    "\n",
    "static struct PyModuleDef stdmodule = {\n",
    "    PyModuleDef_HEAD_INIT,\n",
    "    \"std\", /* name of module */\n",
    "    NULL, /* module documentation, may be NULL */\n",
    "    -1,\n",
    "    std_methods\n",
    "};\n",
    "//x\n",
    "PyMODINIT_FUNC PyInit_std(void)\n",
    "{\n",
    "    return PyModule_Create(&stdmodule);\n",
    "}\n",
    "\n",
    "int main(int argc, char **argv)\n",
    "{\n",
    "    wchar_t *program = Py_DecodeLocale(argv[0], NULL);\n",
    "    if (program == NULL) {\n",
    "        fprintf(stderr, \"Fatal error: cannot decode argv[0]\\n\");\n",
    "        exit(1);\n",
    "    }\n",
    "\n",
    "    /* Add a built-in module, before Py_Initialize */\n",
    "    PyImport_AppendInittab(\"std\", PyInit_std);\n",
    "\n",
    "    /* Pass argv[0] to the Python interpreter */\n",
    "    Py_SetProgramName(program);\n",
    "\n",
    "    /* Initialize the Python interpreter.  Required. */\n",
    "    Py_Initialize();\n",
    "\n",
    "    PyMem_RawFree(program);\n",
    "    return 0;\n",
    "}"
   ]
  },
  {
   "cell_type": "markdown",
   "metadata": {},
   "source": [
    "The following Python code uses [distutils](https://docs.python.org/3/library/distutils.html) to package the code from `stdev.cpp` into a module called `std`. We install the program below."
   ]
  },
  {
   "cell_type": "code",
   "execution_count": 2,
   "metadata": {},
   "outputs": [
    {
     "name": "stdout",
     "output_type": "stream",
     "text": [
      "Overwriting setup.py\n"
     ]
    }
   ],
   "source": [
    "%%file setup.py\n",
    "from distutils.core import setup, Extension\n",
    "\n",
    "std_module = Extension('std', sources=['stddev.cpp'])\n",
    "\n",
    "setup(name='std_performance',\n",
    "      version='1.0',\n",
    "      description='Module for calculating standard deviation.',\n",
    "      install_requires = [\"cycler==0.10.0\",\n",
    "                          \"kiwisolver==1.0.1\"\n",
    "                          \"matplotlib==3.0.2\",\n",
    "                          \"numpy==1.16.1\",\n",
    "                          \"pandas==0.24.1\",\n",
    "                          \"pyparsing==2.3.1\",\n",
    "                          \"python-dateutil==2.8.0\",\n",
    "                          \"pytz==2018.9\",\n",
    "                          \"six==1.12.0\"],\n",
    "      ext_modules=[std_module])"
   ]
  },
  {
   "cell_type": "code",
   "execution_count": 3,
   "metadata": {},
   "outputs": [
    {
     "name": "stdout",
     "output_type": "stream",
     "text": [
      "/Users/rpb/worker/dev/factory-bleed/conda/envs/dev/lib/python3.7/distutils/dist.py:274: UserWarning: Unknown distribution option: 'install_requires'\n",
      "  warnings.warn(msg)\n",
      "running install\n",
      "running build\n",
      "running build_ext\n",
      "building 'std' extension\n",
      "x86_64-apple-darwin13.4.0-clang -fno-strict-aliasing -Wsign-compare -Wunreachable-code -DNDEBUG -fwrapv -O3 -Wall -Wstrict-prototypes -march=core2 -mtune=haswell -mssse3 -ftree-vectorize -fPIC -fPIE -fstack-protector-strong -O3 -pipe -fdebug-prefix-map=${SRC_DIR}=/usr/local/src/conda/${PKG_NAME}-${PKG_VERSION} -fdebug-prefix-map=/Users/rpb/worker/dev/factory-bleed/conda/envs/dev=/usr/local/src/conda-prefix -flto -Wl,-export_dynamic -march=core2 -mtune=haswell -mssse3 -ftree-vectorize -fPIC -fPIE -fstack-protector-strong -O3 -march=core2 -mtune=haswell -mssse3 -ftree-vectorize -fPIC -fPIE -fstack-protector-strong -O2 -pipe -D_FORTIFY_SOURCE=2 -mmacosx-version-min=10.9 -I/Users/rpb/worker/dev/factory-bleed/conda/envs/dev/include/python3.7m -c stddev.cpp -o build/temp.macosx-10.9-x86_64-3.7/stddev.o\n",
      "clang-4.0: warning: -Wl,-export_dynamic: 'linker' input unused [-Wunused-command-line-argument]\n",
      "x86_64-apple-darwin13.4.0-clang++ -bundle -undefined dynamic_lookup -Wl,-pie -Wl,-headerpad_max_install_names -Wl,-dead_strip_dylibs -Wl,-rpath,/Users/rpb/worker/dev/factory-bleed/conda/envs/dev/lib -L/Users/rpb/worker/dev/factory-bleed/conda/envs/dev/lib -flto -Wl,-export_dynamic -Wl,-pie -Wl,-headerpad_max_install_names -Wl,-dead_strip_dylibs -Wl,-rpath,/Users/rpb/worker/dev/factory-bleed/conda/envs/dev/lib -L/Users/rpb/worker/dev/factory-bleed/conda/envs/dev/lib -Wl,-pie -Wl,-headerpad_max_install_names -Wl,-dead_strip_dylibs -march=core2 -mtune=haswell -mssse3 -ftree-vectorize -fPIC -fPIE -fstack-protector-strong -O2 -pipe -D_FORTIFY_SOURCE=2 -mmacosx-version-min=10.9 -arch x86_64 build/temp.macosx-10.9-x86_64-3.7/stddev.o -o build/lib.macosx-10.9-x86_64-3.7/std.cpython-37m-darwin.so\n",
      "ld: warning: -pie being ignored. It is only used when linking a main executable\n",
      "ld: warning: ignoring file /Library/Developer/CommandLineTools/SDKs/MacOSX10.14.sdk/usr/lib/libSystem.tbd, file was built for unsupported file format ( 0x2D 0x2D 0x2D 0x20 0x21 0x74 0x61 0x70 0x69 0x2D 0x74 0x62 0x64 0x2D 0x76 0x33 ) which is not the architecture being linked (x86_64): /Library/Developer/CommandLineTools/SDKs/MacOSX10.14.sdk/usr/lib/libSystem.tbd\n",
      "running install_lib\n",
      "copying build/lib.macosx-10.9-x86_64-3.7/std.cpython-37m-darwin.so -> /Users/rpb/worker/dev/factory-bleed/conda/envs/dev/lib/python3.7/site-packages\n",
      "running install_egg_info\n",
      "Removing /Users/rpb/worker/dev/factory-bleed/conda/envs/dev/lib/python3.7/site-packages/std_performance-1.0-py3.7.egg-info\n",
      "Writing /Users/rpb/worker/dev/factory-bleed/conda/envs/dev/lib/python3.7/site-packages/std_performance-1.0-py3.7.egg-info\n"
     ]
    }
   ],
   "source": [
    "# install this module in our local Python environment\n",
    "! python setup.py install"
   ]
  },
  {
   "cell_type": "markdown",
   "metadata": {},
   "source": [
    "Now that we have installed this extension module, we are free to use it in an example to determine the performance benefit."
   ]
  },
  {
   "cell_type": "code",
   "execution_count": 4,
   "metadata": {},
   "outputs": [
    {
     "data": {
      "text/plain": [
       "<Figure size 432x288 with 0 Axes>"
      ]
     },
     "metadata": {},
     "output_type": "display_data"
    },
    {
     "data": {
      "image/png": "[encoded data removed]",
      "text/plain": [
       "<Figure size 432x288 with 1 Axes>"
      ]
     },
     "metadata": {
      "needs_background": "light"
     },
     "output_type": "display_data"
    }
   ],
   "source": [
    "import numpy as np\n",
    "import random\n",
    "import timeit\n",
    "import pandas as pd\n",
    "%matplotlib inline\n",
    "from matplotlib import pyplot as plt\n",
    "import std\n",
    "\n",
    "lens = range(1000, 20000, 1000)\n",
    "lp_time = []\n",
    "py_time = []\n",
    "np_time = []\n",
    "c_time = []\n",
    "\n",
    "for l in lens:\n",
    "    rands = [random.random() for _ in range(0, l)]\n",
    "    numpy_rands = np.array(rands)\n",
    "    np_time = np.append(np_time, timeit.timeit(lambda: np.std(numpy_rands), number=1000))\n",
    "    c_time = np.append(c_time, timeit.timeit(lambda: std.standard_dev(rands), number=1000))\n",
    "data = np.array([np.transpose(np_time), np.transpose(c_time)])\n",
    "\n",
    "df = pd.DataFrame(data.transpose(), index=lens, columns=['Numpy', 'C++'])\n",
    "plt.figure()\n",
    "df.plot()\n",
    "plt.legend(loc='best')\n",
    "plt.ylabel('Time (Seconds)')\n",
    "plt.xlabel('Number of Elements')\n",
    "plt.title('1k Runs of Standard Deviation')\n",
    "plt.savefig('numpy_vs_c.png')\n",
    "plt.show()"
   ]
  },
  {
   "cell_type": "markdown",
   "metadata": {},
   "source": [
    "We find that this method outperforms `numpy` for small matrices."
   ]
  }
 ],
 "metadata": {
  "kernelspec": {
   "display_name": "Python 3",
   "language": "python",
   "name": "python3"
  },
  "language_info": {
   "codemirror_mode": {
    "name": "ipython",
    "version": 3
   },
   "file_extension": ".py",
   "mimetype": "text/x-python",
   "name": "python",
   "nbconvert_exporter": "python",
   "pygments_lexer": "ipython3",
   "version": "3.7.4"
  }
 },
 "nbformat": 4,
 "nbformat_minor": 2
}
