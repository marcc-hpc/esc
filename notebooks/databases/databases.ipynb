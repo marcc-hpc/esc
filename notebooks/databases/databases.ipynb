{
 "cells": [
  {
   "cell_type": "markdown",
   "metadata": {},
   "source": [
    "# Using Databases\n",
    "\n",
    "This exercise will introduce relational and unstructured databases. We will use a dataset kindly shared by Jan Aerts, the leader of the Data Visualization Lab at KU Leuven, Belgium. He introduces Mongo in [this exercise](http://vda-lab.github.io/2016/04/mongodb-exercises) however we will start with relational databases.\n",
    "\n",
    "To complete this tutorial, we will use a few different small datasets available alongside this notebook. We will use the following environment. \n",
    "\n",
    "```\n",
    "# environment for elements of scientific computing (esc) database tutorial\n",
    "name: esc03\n",
    "dependencies:\n",
    "  - python=3.7\n",
    "  - conda-forge::mongo-tools\n",
    "  - conda-forge::sqlite\n",
    "  - pymongo\n",
    "  - sqlalchemy\n",
    "  - nb_conda_kernels\n",
    "  - jupyter\n",
    "  - jupyterlab\n",
    "  - pip\n",
    "```\n",
    "\n",
    "You can build this environment from [these instructions](https://marcc-hpc.github.io/esc/common/python-environments#conda). On *Blue Crab* this environment can be accessed with `ml anaconda` and `conda activate databases-examples`."
   ]
  },
  {
   "cell_type": "markdown",
   "metadata": {},
   "source": [
    "## Relational databases\n",
    "\n",
    "If you've used a spreadsheet, then you understand how a relational database works. A *relation* is basically a sheet or table in a spreadsheet which defines a set of tuples (rows) that all have the same attributes (columns). A relational database is composed of many such tables along with unique ID numbers for each row. These IDs allow for relations *between* tables known as a `JOIN` clause.\n",
    "\n",
    "### An introduction to sqlite\n",
    "\n",
    "In the following exercise we will build a simple database. Our data comes from a file called `beers.txt` (courtesy of [Jan Aerts]([this exercise](http://vda-lab.github.io/2016/04/mongodb-exercises))). Most of the following exercise will be completed entirely in BASH and recapped in the steps below. Note that a `$` indicates the BASH prompt, however most of this exercise occurs inside the `sqlite3` program, which has its own prompt.\n",
    "\n",
    "#### Source data\n",
    "\n",
    "The text in `beers.txt` includes the beer name, ABV, and brewery, in the following format:\n",
    "\n",
    "```\n",
    "$ head beers.txt \n",
    "3 Schténg|Brasserie Grain d'Orge|6.0\n",
    "400|'t Hofbrouwerijke voor Brouwerij Montaigu|5.6\n",
    "IV Saison|Brasserie de Jandrain-Jandrenouille|6.5\n",
    "V Cense|Brasserie de Jandrain-Jandrenouille|7.5\n",
    "VI Wheat|Brasserie de Jandrain-Jandrenouille|6.0\n",
    "Aardmonnik|De Struise Brouwers|8.0\n",
    "Aarschotse Bruine|Stadsbrouwerij Aarschot|6.0\n",
    "Abbay d'Aulne Blonde des Pères 6|Brasserie Val de Sambre|6.0\n",
    "Abbay d'Aulne Brune des Pères 6|Brasserie Val de Sambre|6.0\n",
    "Abbay d'Aulne Super Noël 9|Brasserie Val de Sambre|9.0\n",
    "```\n",
    "\n",
    "We have used a vertical bar `|` to separate the records in case a comma exists in any of the names."
   ]
  },
  {
   "cell_type": "markdown",
   "metadata": {},
   "source": [
    "#### Building the database\n",
    "\n",
    "1. Make a new database. This command opens the `SQLite` terminal.\n",
    "\n",
    "```\n",
    "$ sqlite3 beers.sqlite3\n",
    "SQLite version 3.30.1 2019-10-10 20:19:45\n",
    "Enter \".help\" for usage hints.\n",
    "sqlite> \n",
    "```\n",
    "\n",
    "2. Create a table for the breweries. You can extend your output over multiple lines since they are terminated with a semicolon.\n",
    "\n",
    "```\n",
    "sqlite> CREATE TABLE brewery (\n",
    "    name VARCHAR(128)\n",
    ");\n",
    "sqlite> .tables\n",
    "brewery\n",
    "sqlite> .schema brewery\n",
    "```\n",
    "\n",
    "The command above can repeat the schema back to you. \n",
    "\n",
    "3. Drop a table.\n",
    "\n",
    "```\n",
    "sqlite> DROP TABLE artists;\n",
    "sqlite> .tables\n",
    "```\n",
    "\n",
    "4. Make the table again and include a second table to define the beer and its alcohol content as a `REAL` type, that is, a floating point number. Note that we are also including a brewery ID and a \"foreign key\" which we will explain in class.\n",
    "\n",
    "```\n",
    "sqlite> CREATE TABLE brewery (\n",
    "    name VARCHAR(128)\n",
    ");\n",
    "sqlite> CREATE TABLE beer (\n",
    "    name VARCHAR(128),\n",
    "    abv REAL,\n",
    "    brewery_id INTEGER,\n",
    "    FOREIGN KEY(brewery_id) REFERENCES brewery(rowid)\n",
    ");\n",
    ".schema\n",
    "```\n",
    "\n",
    "5. Now we will insert some data and read it back. The `SELECT` command creates a database \"query\".\n",
    "\n",
    "```\n",
    "sqlite> INSERT INTO brewery VALUES('Dogfishead');\n",
    "sqlite> INSERT INTO brewery VALUES('Tired Hands');\n",
    "sqlite> SELECT rowid, name from brewery;\n",
    "```\n",
    "\n",
    "6. Now we can insert a beer into the database and associate it with a brewery.\n",
    "\n",
    "```\n",
    "sqlite> INSERT INTO beer VALUES ('90 Minute IPA', 9.0, 1);\n",
    "sqlite> INSERT INTO beer VALUES ('60 Minute IPA', 6.0, 1);\n",
    "sqlite> INSERT INTO beer VALUES ('HopHands', 5.5, 2);\n",
    "sqlite> INSERT INTO beer (name) VALUES ('SaisonHands',);\n",
    "```\n",
    "\n",
    "7. We can easily search the database for beers from a particular brewery.\n",
    "\n",
    "```\n",
    "sqlite> SELECT rowid, name FROM beer WHERE brewery_id=1;\n",
    "```\n",
    "\n",
    "8. We can query multiple tables at once using the `INNER JOIN` syntax. In the following example, we will collect all pairs of brewery names and ABV values by joining the beer's brewery ID number with the row ID on the brewery table.\n",
    "\n",
    "```\n",
    "sqlite> SELECT brewery.name,beer.abv FROM beer INNER JOIN brewery ON brewery.rowid=beer.brewery_id;\n",
    "Dogfishead|9.0\n",
    "Tired Hands|5.5\n",
    "Dogfishead|6.0\n",
    "```\n",
    "\n",
    "If we had created a more complex database, we could use a sequence of `INNER JOIN` to pull data from multiple tables.\n",
    "\n",
    "9. We can modify the tables in-place.\n",
    "\n",
    "```\n",
    "sqlite> ALTER TABLE beer ADD COLUMN style;\n",
    "sqlite> UPDATE beer SET style=\"IPA\" WHERE name=\"90 Minute IPA\";\n",
    "sqlite> select * from beer;\n",
    "```\n",
    "\n",
    "The exercise above covers the basics for interacting with `sqlite3` directly in a terminal. You are welcome to set up a BASH script to ingest and query the data. For some use-cases, it may be easier to use an interface. In the next exercise we will examine one type of interface."
   ]
  },
  {
   "cell_type": "markdown",
   "metadata": {},
   "source": [
    "### Scripting your `sqlite` workflows\n",
    "\n",
    "In this example we will repeat some of the work above using `sqlalchemy` from [this documentation](https://docs.sqlalchemy.org/en/13/orm/tutorial.html)."
   ]
  },
  {
   "cell_type": "code",
   "execution_count": 1,
   "metadata": {},
   "outputs": [],
   "source": [
    "# clear the existing data if you are starting over\n",
    "! rm -f beer_alchemy.sqlite beer.sqlite"
   ]
  },
  {
   "cell_type": "markdown",
   "metadata": {},
   "source": [
    "The `sqlalchemy` library is a front-end for many different types of databases. The purpose of this library, and others written in different langauges, is to abstract the programmer from the details of the database. You can use a database ORM (object-relational mapping) to design a database in your preferred language. After you work with an ORM for a while, you might choose a different database **driver** or back-end to suit your performance needs.\n",
    "\n",
    "In this exercise we will use `sqlalchemy` to design our database directly in Python and ingest some of the data described in the `sqlite` exercise above. Since Python makes it somewhat easy to interact with strings, it can reduce the labor required to ingest the data.\n",
    "\n",
    "First, we create an \"engine\" with the following commands. Note that you can use other drivers in place of `sqlite` below. The following command creates the file `beer_alchemy.sqlite` on disk, however you are welcome to use `:memory:` instead."
   ]
  },
  {
   "cell_type": "code",
   "execution_count": 2,
   "metadata": {},
   "outputs": [],
   "source": [
    "import sqlalchemy\n",
    "from sqlalchemy import create_engine\n",
    "engine = create_engine('sqlite:///beer_alchemy.sqlite',echo=True)"
   ]
  },
  {
   "cell_type": "markdown",
   "metadata": {},
   "source": [
    "Next we must make a \"session\" to interact with the ORM."
   ]
  },
  {
   "cell_type": "code",
   "execution_count": 3,
   "metadata": {},
   "outputs": [],
   "source": [
    "# make a session instead of transacting directly\n",
    "from sqlalchemy.orm import sessionmaker\n",
    "Session = sessionmaker(bind=engine)\n",
    "session = Session()"
   ]
  },
  {
   "cell_type": "markdown",
   "metadata": {},
   "source": [
    "We design our database by sub-classing a `delarative_base`. All of our interactions with the database are abstract, and occur implicitly when we interact with the library objects (namely `Base`)."
   ]
  },
  {
   "cell_type": "code",
   "execution_count": 4,
   "metadata": {},
   "outputs": [],
   "source": [
    "from sqlalchemy.ext.declarative import declarative_base\n",
    "from sqlalchemy import Column, ForeignKey, Integer, String, Float\n",
    "from sqlalchemy.orm import relationship\n",
    "Base = declarative_base()"
   ]
  },
  {
   "cell_type": "markdown",
   "metadata": {},
   "source": [
    "Now that we have set the stage, we are ready to design our tables, which are represented as Python classes. One major downside to using an ORM is that this particular library does not allow for database migrations, hence you must regenerate the database if you wish to modify it. This imposes an important type of discipline on your workflow, however all databases must eventually be migrated, one way or the other."
   ]
  },
  {
   "cell_type": "code",
   "execution_count": 5,
   "metadata": {},
   "outputs": [],
   "source": [
    "class Brewery(Base):\n",
    "    __tablename__ = 'brewery'\n",
    "\n",
    "    id = Column(Integer, primary_key=True)\n",
    "    name = Column(String)\n",
    "\n",
    "    def __repr__(self):\n",
    "        return f'<Brewery name={self.name}>'"
   ]
  },
  {
   "cell_type": "code",
   "execution_count": 6,
   "metadata": {},
   "outputs": [],
   "source": [
    "class Beer(Base):\n",
    "    __tablename__ = 'beer'\n",
    "\n",
    "    id = Column(Integer, primary_key=True)\n",
    "    name = Column(String)\n",
    "    abv = Column(Float)\n",
    "    brewery_id = Column(Integer, ForeignKey('brewery.id'))\n",
    "    brewery = relationship('Brewery')\n",
    "\n",
    "    def __repr__(self):\n",
    "        return f'<Beer name={self.name}>'"
   ]
  },
  {
   "cell_type": "markdown",
   "metadata": {},
   "source": [
    "Defining the class is not enough to actually *build* the table. For that, we must communicate with the engine. Since we asked the engine to echo our results, we can see how `sqlalchemy` is directly manipulating the database."
   ]
  },
  {
   "cell_type": "code",
   "execution_count": 7,
   "metadata": {},
   "outputs": [
    {
     "name": "stdout",
     "output_type": "stream",
     "text": [
      "2019-11-18 20:59:43,834 INFO sqlalchemy.engine.base.Engine SELECT CAST('test plain returns' AS VARCHAR(60)) AS anon_1\n",
      "2019-11-18 20:59:43,836 INFO sqlalchemy.engine.base.Engine ()\n",
      "2019-11-18 20:59:43,837 INFO sqlalchemy.engine.base.Engine SELECT CAST('test unicode returns' AS VARCHAR(60)) AS anon_1\n",
      "2019-11-18 20:59:43,838 INFO sqlalchemy.engine.base.Engine ()\n",
      "2019-11-18 20:59:43,839 INFO sqlalchemy.engine.base.Engine PRAGMA main.table_info(\"brewery\")\n",
      "2019-11-18 20:59:43,839 INFO sqlalchemy.engine.base.Engine ()\n",
      "2019-11-18 20:59:43,841 INFO sqlalchemy.engine.base.Engine PRAGMA temp.table_info(\"brewery\")\n",
      "2019-11-18 20:59:43,841 INFO sqlalchemy.engine.base.Engine ()\n",
      "2019-11-18 20:59:43,842 INFO sqlalchemy.engine.base.Engine PRAGMA main.table_info(\"beer\")\n",
      "2019-11-18 20:59:43,843 INFO sqlalchemy.engine.base.Engine ()\n",
      "2019-11-18 20:59:43,843 INFO sqlalchemy.engine.base.Engine PRAGMA temp.table_info(\"beer\")\n",
      "2019-11-18 20:59:43,844 INFO sqlalchemy.engine.base.Engine ()\n",
      "2019-11-18 20:59:43,845 INFO sqlalchemy.engine.base.Engine \n",
      "CREATE TABLE brewery (\n",
      "\tid INTEGER NOT NULL, \n",
      "\tname VARCHAR, \n",
      "\tPRIMARY KEY (id)\n",
      ")\n",
      "\n",
      "\n",
      "2019-11-18 20:59:43,846 INFO sqlalchemy.engine.base.Engine ()\n",
      "2019-11-18 20:59:43,848 INFO sqlalchemy.engine.base.Engine COMMIT\n",
      "2019-11-18 20:59:43,849 INFO sqlalchemy.engine.base.Engine \n",
      "CREATE TABLE beer (\n",
      "\tid INTEGER NOT NULL, \n",
      "\tname VARCHAR, \n",
      "\tabv FLOAT, \n",
      "\tbrewery_id INTEGER, \n",
      "\tPRIMARY KEY (id), \n",
      "\tFOREIGN KEY(brewery_id) REFERENCES brewery (id)\n",
      ")\n",
      "\n",
      "\n",
      "2019-11-18 20:59:43,850 INFO sqlalchemy.engine.base.Engine ()\n",
      "2019-11-18 20:59:43,852 INFO sqlalchemy.engine.base.Engine COMMIT\n"
     ]
    }
   ],
   "source": [
    "Base.metadata.create_all(engine)"
   ]
  },
  {
   "cell_type": "markdown",
   "metadata": {},
   "source": [
    "We are finally ready to enter some data using the somewhat elegant Python syntax."
   ]
  },
  {
   "cell_type": "code",
   "execution_count": 8,
   "metadata": {},
   "outputs": [
    {
     "name": "stdout",
     "output_type": "stream",
     "text": [
      "None\n"
     ]
    }
   ],
   "source": [
    "beer = Beer(name='Rt. 113 IPA', abv=7.0)\n",
    "session.add(beer)\n",
    "print(beer.id)"
   ]
  },
  {
   "cell_type": "markdown",
   "metadata": {},
   "source": [
    "The beer has no ID yet because all of our Python objects are not permanently added to the database until we commit the results. The following command will finalize this transaction."
   ]
  },
  {
   "cell_type": "code",
   "execution_count": 9,
   "metadata": {},
   "outputs": [
    {
     "name": "stdout",
     "output_type": "stream",
     "text": [
      "2019-11-18 20:59:43,874 INFO sqlalchemy.engine.base.Engine BEGIN (implicit)\n",
      "2019-11-18 20:59:43,880 INFO sqlalchemy.engine.base.Engine INSERT INTO beer (name, abv, brewery_id) VALUES (?, ?, ?)\n",
      "2019-11-18 20:59:43,883 INFO sqlalchemy.engine.base.Engine ('Rt. 113 IPA', 7.0, None)\n",
      "2019-11-18 20:59:43,885 INFO sqlalchemy.engine.base.Engine COMMIT\n"
     ]
    }
   ],
   "source": [
    "session.commit()"
   ]
  },
  {
   "cell_type": "code",
   "execution_count": 10,
   "metadata": {},
   "outputs": [],
   "source": [
    "# turn off the verbose SQL output\n",
    "engine.echo = False"
   ]
  },
  {
   "cell_type": "markdown",
   "metadata": {},
   "source": [
    "Now that this object is entered, we can query the table to return it."
   ]
  },
  {
   "cell_type": "code",
   "execution_count": 11,
   "metadata": {},
   "outputs": [
    {
     "data": {
      "text/plain": [
       "[<Beer name=Rt. 113 IPA>]"
      ]
     },
     "execution_count": 11,
     "metadata": {},
     "output_type": "execute_result"
    }
   ],
   "source": [
    "# query the Beer table\n",
    "session.query(Beer).all()"
   ]
  },
  {
   "cell_type": "markdown",
   "metadata": {},
   "source": [
    "#### Ingesting data\n",
    "\n",
    "One reason to move from the `sqlite` terminal or BASH to a higher-level language like Python is to make it easy to ingest some text. The following example comes from the top of our `beers.txt` file, which has itself been extracted for this exercise from a source database. The data below include the beer name, brewery, and alcohol by volume (ABV)."
   ]
  },
  {
   "cell_type": "code",
   "execution_count": 12,
   "metadata": {},
   "outputs": [],
   "source": [
    "# start with some source data\n",
    "data = \"\"\"\n",
    "3 Schténg|Brasserie Grain d'Orge|6.0\n",
    "400|'t Hofbrouwerijke voor Brouwerij Montaigu|5.6\n",
    "IV Saison|Brasserie de Jandrain-Jandrenouille|6.5\n",
    "V Cense|Brasserie de Jandrain-Jandrenouille|7.5\n",
    "VI Wheat|Brasserie de Jandrain-Jandrenouille|6.0\n",
    "Aardmonnik|De Struise Brouwers|8.0\n",
    "Aarschotse Bruine|Stadsbrouwerij Aarschot|6.0\n",
    "Abbay d'Aulne Blonde des Pères 6|Brasserie Val de Sambre|6.0\n",
    "Abbay d'Aulne Brune des Pères 6|Brasserie Val de Sambre|6.0\n",
    "Abbay d'Aulne Super Noël 9|Brasserie Val de Sambre|9.0\n",
    "\"\"\""
   ]
  },
  {
   "cell_type": "markdown",
   "metadata": {},
   "source": [
    "Let us ingest the data directly from this text file. We will discuss the following code block in class. In short, we interpret the text file (which has three columns) and then query the `Brewery` and `Beer` tables, represented by Python classes. If a particular brewer or beer is missing, we add the objects and commit. After this step is complete, we can read out all of the rows from this limited data set."
   ]
  },
  {
   "cell_type": "code",
   "execution_count": 13,
   "metadata": {},
   "outputs": [
    {
     "data": {
      "text/plain": [
       "[<Beer name=Rt. 113 IPA>,\n",
       " <Beer name=3 Schténg>,\n",
       " <Beer name=400>,\n",
       " <Beer name=IV Saison>,\n",
       " <Beer name=V Cense>,\n",
       " <Beer name=VI Wheat>,\n",
       " <Beer name=Aardmonnik>,\n",
       " <Beer name=Aarschotse Bruine>,\n",
       " <Beer name=Abbay d'Aulne Blonde des Pères 6>,\n",
       " <Beer name=Abbay d'Aulne Brune des Pères 6>,\n",
       " <Beer name=Abbay d'Aulne Super Noël 9>]"
      ]
     },
     "execution_count": 13,
     "metadata": {},
     "output_type": "execute_result"
    }
   ],
   "source": [
    "# ingest the data\n",
    "for line in data.strip().splitlines():\n",
    "    beer_name,brewery_name,abv = line.split('|')\n",
    "    row_brewery = session.query(Brewery).filter_by(name=brewery_name).first()\n",
    "    if not row_brewery:\n",
    "        brewery_row = Brewery(name=brewery_name)\n",
    "        session.add(brewery_row)\n",
    "        session.commit()\n",
    "    beer_row = session.query(Beer).filter_by(name=beer_name).first()\n",
    "    if not beer_row:\n",
    "        beer_row = Beer(name=beer_name,brewery=brewery_row,abv=abv)\n",
    "        session.add(beer_row)\n",
    "        session.commit()\n",
    "session.query(Beer).all()"
   ]
  },
  {
   "cell_type": "markdown",
   "metadata": {},
   "source": [
    "Having proved that this method works, we can ingest all of the data from the source. It's best to package these operations into separate functions."
   ]
  },
  {
   "cell_type": "code",
   "execution_count": 14,
   "metadata": {},
   "outputs": [],
   "source": [
    "def ingest_beer(line):\n",
    "    \"\"\"Add beer and brewery information into the database.\"\"\"\n",
    "    global session,Brewery,Beer\n",
    "    beer_name,brewery_name,abv = line.split('|')\n",
    "    # it is important to only grab a single match\n",
    "    brewery_row = session.query(Brewery).filter_by(\n",
    "        name=brewery_name).first()\n",
    "    if not brewery_row:\n",
    "        brewery_row = Brewery(name=brewery_name)\n",
    "        session.add(brewery_row)\n",
    "        session.commit()\n",
    "    beer_row = session.query(Beer).filter_by(name=beer_name).first()\n",
    "    if not beer_row:\n",
    "        beer_row = Beer(name=beer_name,brewery=brewery_row,abv=abv)\n",
    "        session.add(beer_row)\n",
    "        session.commit()"
   ]
  },
  {
   "cell_type": "code",
   "execution_count": 15,
   "metadata": {},
   "outputs": [
    {
     "name": "stdout",
     "output_type": "stream",
     "text": [
      "we have 1691 records\n"
     ]
    }
   ],
   "source": [
    "with open('beers.txt') as fp:\n",
    "    text = fp.read().strip().splitlines()\n",
    "n_records = len(text)\n",
    "print('we have %d records'%n_records)"
   ]
  },
  {
   "cell_type": "code",
   "execution_count": 16,
   "metadata": {},
   "outputs": [],
   "source": [
    "# mistakes may later require a rollback\n",
    "session.rollback()"
   ]
  },
  {
   "cell_type": "code",
   "execution_count": 17,
   "metadata": {},
   "outputs": [],
   "source": [
    "# easy progress bar in case this takes a while\n",
    "import sys\n",
    "def drawProgressBar(f,barLen=20):\n",
    "    # via https://stackoverflow.com/a/15801617\n",
    "    sys.stdout.write(\"\\r\")\n",
    "    sys.stdout.write(\"[{:<{}}] {:.0f}%\".format(\"=\" * int(barLen * f), barLen, f*100))\n",
    "    sys.stdout.flush()"
   ]
  },
  {
   "cell_type": "code",
   "execution_count": 18,
   "metadata": {},
   "outputs": [
    {
     "name": "stdout",
     "output_type": "stream",
     "text": [
      "[====================] 100%"
     ]
    }
   ],
   "source": [
    "# ingest everything\n",
    "for lnum,line in enumerate(text):\n",
    "    drawProgressBar((lnum+1.)/n_records)\n",
    "    ingest_beer(line)"
   ]
  },
  {
   "cell_type": "code",
   "execution_count": 19,
   "metadata": {},
   "outputs": [
    {
     "name": "stdout",
     "output_type": "stream",
     "text": [
      "found 256658 records\n"
     ]
    }
   ],
   "source": [
    "# query Brewery and Beer together\n",
    "boozy_breweries = session.query(\n",
    "    Brewery,Beer).filter(\n",
    "    Beer.abv>7.0).all()\n",
    "print('found %d records'%len(boozy_breweries))"
   ]
  },
  {
   "cell_type": "code",
   "execution_count": 20,
   "metadata": {},
   "outputs": [
    {
     "data": {
      "text/plain": [
       "(<Brewery name='t Hofbrouwerijke voor Brouwerij Montaigu>, <Beer name=V Cense>)"
      ]
     },
     "execution_count": 20,
     "metadata": {},
     "output_type": "execute_result"
    }
   ],
   "source": [
    "# something is suspicious\n",
    "boozy_breweries[1]"
   ]
  },
  {
   "cell_type": "markdown",
   "metadata": {},
   "source": [
    "The number of records returned from our search above seems absurdly high. This is an example of an *accidental outer join* which was the result of clumsy code on my part! Let's try again, and limit our \"join\" to the desired target: beer."
   ]
  },
  {
   "cell_type": "code",
   "execution_count": 21,
   "metadata": {},
   "outputs": [
    {
     "name": "stdout",
     "output_type": "stream",
     "text": [
      "found 71 records\n"
     ]
    }
   ],
   "source": [
    "boozy_breweries = session.query(Brewery).join(\n",
    "    Beer).filter(\n",
    "    Beer.abv>9.0).all()\n",
    "print('found %d records'%len(boozy_breweries))"
   ]
  },
  {
   "cell_type": "markdown",
   "metadata": {},
   "source": [
    "This is much more reasonable, particularly since our number of results does not exceed the number of records. To find the best breweries (i.e. those with the highest-octane beers), we can *query* both the `Beer` and `Brewery` objects while joining only on Beer."
   ]
  },
  {
   "cell_type": "code",
   "execution_count": 22,
   "metadata": {},
   "outputs": [
    {
     "name": "stdout",
     "output_type": "stream",
     "text": [
      "found 150 records\n"
     ]
    }
   ],
   "source": [
    "boozy_beers_by_brewery = session.query(\n",
    "    Brewery,Beer).join(Beer).filter(Beer.abv>9.0).all()\n",
    "print('found %d records'%len(boozy_beers_by_brewery))"
   ]
  },
  {
   "cell_type": "markdown",
   "metadata": {},
   "source": [
    "Next we can sort these to find the booziest beers, paired with their brewers."
   ]
  },
  {
   "cell_type": "code",
   "execution_count": 23,
   "metadata": {},
   "outputs": [
    {
     "name": "stdout",
     "output_type": "stream",
     "text": [
      " 9.20 <Beer name=Keyte-Dobbel-Tripel> <Brewery name=Brouwerij Strubbe>\n",
      " 9.20 <Beer name=Rochefort 8> <Brewery name=Abdij Notre-Dame de Saint-Rémy>\n",
      " 9.20 <Beer name=Strandjuttersbier Mong De Vos> <Brewery name=Brouwerij Strubbe voor bierfirma Den Haene>\n",
      " 9.40 <Beer name=Bière du Corsaire Cuvée Spéciale> <Brewery name=Brouwerij Huyghe>\n",
      " 9.50 <Beer name=Abbaye des Rocs Grand Cru> <Brewery name=Brasserie de l'Abbaye des Rocs>\n",
      " 9.50 <Beer name=Achel Blond Extra> <Brewery name=Achelse Kluis>\n",
      " 9.50 <Beer name=Achel Bruin Extra> <Brewery name=Achelse Kluis>\n",
      " 9.50 <Beer name=Authentic Triple> <Brewery name=Authentique Brasserie>\n",
      " 9.50 <Beer name=Bersalis Tripel> <Brewery name=Brouwerij Huyghe voor Brouwerij Oud Beersel>\n",
      " 9.50 <Beer name=Boerinneken> <Brewery name=De Proefbrouwerij voor Den Ouden Advokaat>\n"
     ]
    }
   ],
   "source": [
    "sort_abv = lambda i:i[1].abv\n",
    "boozy_ranked = sorted(boozy_beers_by_brewery,key=sort_abv,reverse=True)\n",
    "for brewer,beer in sorted(boozy_beers_by_brewery,key=sort_abv)[:10]:\n",
    "    print('%5.2f %s %s'%(beer.abv,beer,brewer))"
   ]
  },
  {
   "cell_type": "markdown",
   "metadata": {},
   "source": [
    "Note that you are welcome to unpack and manipulate this data in Python, however databases are strictly intended to do the heavy lifting for you. Most databases are useful not only because they allow you to develop complex data structures, but because their performance far exceeds the in-memory performance of bog standard Python."
   ]
  },
  {
   "cell_type": "markdown",
   "metadata": {},
   "source": [
    "## Unstructured databases: Mongo\n",
    "\n",
    "For the remainder of this exercise, we will use MongoDB. This database is a \"noSQL\" or unstructured or non-relational database. We offer this exercise to compare its usefulness to the relational databases.\n",
    "\n",
    "### Raw data\n",
    "\n",
    "The raw data for the exercise come from the same source as the file above using these commands on a machine with [Docker](https://docs.docker.com/).\n",
    "\n",
    "```\n",
    "docker run -d -p 27017:27017 jandot/mongo-i0u19a\n",
    "mongoexport --db=i0u19a --collection=beers --out=beers.json\n",
    "mongoexport --db=i0u19a --collection=breweries --out=brewers.json\n",
    "docker stop de69c66b8d91 # get the correct name from docker ps\n",
    "```\n",
    "\n",
    "The `brewers.json` is provided with this repository and is thanks to [Jan Aerts](http://vda-lab.github.io/2016/04/mongodb-exercises)."
   ]
  },
  {
   "cell_type": "markdown",
   "metadata": {},
   "source": [
    "### Starting mongo\n",
    "\n",
    "In class we will review the use of a `screen` to start Mongo using the following commands.\n",
    "\n",
    "```\n",
    "screen -S mongo\n",
    "mkdir -p data_mongo\n",
    "mongod --dbpath=data_mongo\n",
    "# use the following on Blue Crab to avoid port collisions with other students\n",
    "mongod --dbpath=data_mongo --port=$(shuf -i8000-9999 -n1)\n",
    "# note the default port (27017) or a random one via shuffle is required later on\n",
    "```\n",
    "\n",
    "If you are using *Blue Crab* you should perform this exercise on an interactive session using `interact -p express -c 6 -t 120`. Do not forget to load a conda environment with the dependencies listed at the beginning of this tutorial.\n",
    "\n",
    "At the end of the exercise we will use the Mongo shell, but for now, we will use a Python interface. In contrast to `sqlalchemy`, the `pymongo` database is very similar to the mongo interface itself."
   ]
  },
  {
   "cell_type": "markdown",
   "metadata": {},
   "source": [
    "### Ingest the data\n",
    "\n",
    "Once you have started a mongo daemon in the background, we are readyt o start using the database. Note that if you use docker or Singularity directly, the `docker run` command above will make the data available automatically."
   ]
  },
  {
   "cell_type": "code",
   "execution_count": 24,
   "metadata": {},
   "outputs": [],
   "source": [
    "from pymongo import MongoClient\n",
    "# if you are using a random port, substitute it below\n",
    "client = MongoClient('localhost', 27017)"
   ]
  },
  {
   "cell_type": "markdown",
   "metadata": {},
   "source": [
    "To complete the exercise we must create a database and a collection."
   ]
  },
  {
   "cell_type": "code",
   "execution_count": 25,
   "metadata": {},
   "outputs": [],
   "source": [
    "db = client[\"beer_survey\"]\n",
    "beers = db[\"beers\"]"
   ]
  },
  {
   "cell_type": "markdown",
   "metadata": {},
   "source": [
    "First, we should take a look at the raw data which we exported for this exercise."
   ]
  },
  {
   "cell_type": "code",
   "execution_count": 26,
   "metadata": {},
   "outputs": [
    {
     "name": "stdout",
     "output_type": "stream",
     "text": [
      "{\"_id\":{\"$oid\":\"5dd300d16881a20dc8b96777\"},\"beer\":\"3 Schténg\",\"brewery\":\"Brasserie Grain d'Orge\",\"type\":[\"hoge gisting\"],\"alcoholpercentage\":6.0}\r\n",
      "{\"_id\":{\"$oid\":\"5dd300d16881a20dc8b96778\"},\"beer\":\"IV Saison\",\"brewery\":\"Brasserie de Jandrain-Jandrenouille\",\"type\":[\"saison\"],\"alcoholpercentage\":6.5}\r\n",
      "{\"_id\":{\"$oid\":\"5dd300d16881a20dc8b96779\"},\"beer\":\"V Cense\",\"brewery\":\"Brasserie de Jandrain-Jandrenouille\",\"type\":[\"hoge gisting\",\"special belge\"],\"alcoholpercentage\":7.5}\r\n"
     ]
    }
   ],
   "source": [
    "! head -n 3 beers.json"
   ]
  },
  {
   "cell_type": "markdown",
   "metadata": {},
   "source": [
    "We can see that each JSON entry includes a beer and \"type\" along with the ABV. The JSON syntax is a useful way to represented a nested dictionary or tree of values."
   ]
  },
  {
   "cell_type": "code",
   "execution_count": 27,
   "metadata": {},
   "outputs": [],
   "source": [
    "import json,pprint"
   ]
  },
  {
   "cell_type": "code",
   "execution_count": 28,
   "metadata": {},
   "outputs": [],
   "source": [
    "# if you repeat this exercise, it may be useful to clear the database\n",
    "try: beers.delete_many({})\n",
    "except: pass"
   ]
  },
  {
   "cell_type": "markdown",
   "metadata": {},
   "source": [
    "Next we will unpack each line with JSON and use `insert_one` to directly add them to the database. Since  this database is unstructured, we do not have to define the schema ahead of time."
   ]
  },
  {
   "cell_type": "code",
   "execution_count": 29,
   "metadata": {},
   "outputs": [],
   "source": [
    "with open('beers.json') as f:\n",
    "    for line in f.readlines():\n",
    "        entry = json.loads(line)\n",
    "        beers.insert_one(dict(\n",
    "            beer=entry['beer'],\n",
    "            abv=entry['alcoholpercentage'],\n",
    "            brewery=entry['brewery'],\n",
    "            style=entry['type'],\n",
    "        ))"
   ]
  },
  {
   "cell_type": "code",
   "execution_count": 30,
   "metadata": {},
   "outputs": [
    {
     "data": {
      "text/plain": [
       "1691"
      ]
     },
     "execution_count": 30,
     "metadata": {},
     "output_type": "execute_result"
    }
   ],
   "source": [
    "# we can count the records\n",
    "beers.count_documents({})"
   ]
  },
  {
   "cell_type": "markdown",
   "metadata": {},
   "source": [
    "The syntax is slightly different, but as with the relational database, queries are relatively easy to write."
   ]
  },
  {
   "cell_type": "code",
   "execution_count": 31,
   "metadata": {},
   "outputs": [
    {
     "name": "stdout",
     "output_type": "stream",
     "text": [
      "there are 168 breweries with boozy beers\n"
     ]
    }
   ],
   "source": [
    "boozy = list(beers.find({\"abv\": {\"$gt\": 8}}))\n",
    "print(\"there are %d breweries with boozy beers\"%\n",
    "    len(list(set([i['brewery'] for i in boozy]))))"
   ]
  },
  {
   "cell_type": "markdown",
   "metadata": {},
   "source": [
    "We can sort the results of our query directly in Python."
   ]
  },
  {
   "cell_type": "code",
   "execution_count": 32,
   "metadata": {},
   "outputs": [
    {
     "data": {
      "text/plain": [
       "[('Black Damnation V (Double Black)', 26.0),\n",
       " (\"Cuvée d'Erpigny\", 15.0),\n",
       " ('Black Albert', 13.0),\n",
       " ('Black Damnation I', 13.0),\n",
       " ('Black Damnation III (Black Mes)', 13.0),\n",
       " ('Black Damnation IV (Coffée Club)', 13.0),\n",
       " ('Bush de Noël Premium', 13.0),\n",
       " ('Bush de Nuits', 13.0),\n",
       " ('Bush Prestige', 13.0),\n",
       " ('Cuvée Delphine', 13.0)]"
      ]
     },
     "execution_count": 32,
     "metadata": {},
     "output_type": "execute_result"
    }
   ],
   "source": [
    "[(i['beer'],i['abv']) \n",
    "    for i in sorted(beers.find({\"abv\": {\"$gt\": 8}}),\n",
    "    key=lambda x:x['abv'],reverse=True)[:10]]"
   ]
  },
  {
   "cell_type": "markdown",
   "metadata": {},
   "source": [
    "Alternately, we can chain together a series of queries to filter the data. In the following example we find all beers above 8% ABV, group them by brewery, take the average, and then collect a sample of five."
   ]
  },
  {
   "cell_type": "code",
   "execution_count": 33,
   "metadata": {},
   "outputs": [
    {
     "name": "stdout",
     "output_type": "stream",
     "text": [
      "08.80 Brouwerij Palm voor Group John Martin\n",
      "08.50 Brouwerij Contreras\n",
      "08.70 Brouwerij Lupus voor (T)Huisbrouwerij Odlo\n",
      "09.17 Brouwerij Gulden Spoor voor bierfirma Hugel\n",
      "09.00 Brouwerij Kerkom bij Brouwerij Sint-Jozef\n"
     ]
    }
   ],
   "source": [
    "agg = db.beers.aggregate([\n",
    "    {\"$match\": {\"abv\": {\"$gt\": 8}}},\n",
    "    {\"$group\": {\"_id\": \"$brewery\", \"avg\": {\"$avg\": \"$abv\"}}},\n",
    "    {\"$sample\": {\"size\": 5}}\n",
    "    ])\n",
    "print('\\n'.join(['%05.2f %s'%(i['avg'],i['_id']) for i in agg]))"
   ]
  },
  {
   "cell_type": "markdown",
   "metadata": {},
   "source": [
    "The syntax above, including the use of `$group` and `$match` is reviewed in the list of *accumulators* [here](https://docs.mongodb.org/manual/reference/operator/aggregation-pipeline/)."
   ]
  },
  {
   "cell_type": "markdown",
   "metadata": {},
   "source": [
    "### Review the Mongo shell\n",
    "\n",
    "Before continuing, it is useful to check on the database directly with `mongo`. The commands above can also be completed directly inside Mongo using some of the following commands. Make sure your daemon is running first.\n",
    "\n",
    "```\n",
    "mongo --host localhost\n",
    "show dbs\n",
    "use beer_survey\n",
    "db.beers.findOne()\n",
    "db.beers.aggregate([\n",
    "  {$match: {abv: {$gt: 8}}},\n",
    "  {$group: {_id: \"$brewery\", avg: {$avg: \"$abv\"}}},\n",
    "  {$sample: {size: 5}}\n",
    "])\n",
    "```\n",
    "\n",
    "When designing your calculations, you should choose the combination of database and ORM or interface that makes it easiest to manipulate your data."
   ]
  },
  {
   "cell_type": "markdown",
   "metadata": {},
   "source": [
    "### Advanced filtering\n",
    "\n",
    "In our final example, we will use *map reduce* to count the number of beers per brewery. This requires some JavaScript implemented with the `bson` library, since this is Mongo's native language."
   ]
  },
  {
   "cell_type": "code",
   "execution_count": 34,
   "metadata": {},
   "outputs": [],
   "source": [
    "from bson.code import Code"
   ]
  },
  {
   "cell_type": "code",
   "execution_count": 35,
   "metadata": {},
   "outputs": [],
   "source": [
    "mapped = Code(\"\"\"\n",
    "function () { \n",
    "    emit(this.brewery, 1);\n",
    "}\n",
    "\"\"\")"
   ]
  },
  {
   "cell_type": "code",
   "execution_count": 36,
   "metadata": {},
   "outputs": [],
   "source": [
    "reduce = Code(\"\"\"\n",
    "function (brewery, values) {\n",
    "    return Array.sum(values)\n",
    "}\n",
    "\"\"\")"
   ]
  },
  {
   "cell_type": "code",
   "execution_count": 37,
   "metadata": {},
   "outputs": [
    {
     "data": {
      "text/plain": [
       "[{'_id': 'Brouwerij Huyghe', 'value': 43.0},\n",
       " {'_id': 'Brouwerij Van Honsebrouck', 'value': 36.0},\n",
       " {'_id': 'Brouwerij Van Steenberge', 'value': 32.0},\n",
       " {'_id': 'Brouwerij De Regenboog', 'value': 31.0},\n",
       " {'_id': 'Brouwerij Alvinne', 'value': 30.0}]"
      ]
     },
     "execution_count": 37,
     "metadata": {},
     "output_type": "execute_result"
    }
   ],
   "source": [
    "result = db.beers.map_reduce(mapped,reduce,out=\"numberBeersPerBrewery\")\n",
    "result_ranked = sorted(result.find(),key=lambda x:x['value'],reverse=True)\n",
    "result_ranked[:5]"
   ]
  },
  {
   "cell_type": "markdown",
   "metadata": {},
   "source": [
    "The map-reduce framework is a general one which can be used in many other contexts."
   ]
  },
  {
   "cell_type": "markdown",
   "metadata": {},
   "source": [
    "That's all for today! This exercise only scratched the surface. Databases are extremely useful tools that help to extend your programs to accomodate larger and more complex data structures."
   ]
  }
 ],
 "metadata": {
  "kernelspec": {
   "display_name": "Python [conda env:esc03] *",
   "language": "python",
   "name": "conda-env-esc03-py"
  },
  "language_info": {
   "codemirror_mode": {
    "name": "ipython",
    "version": 3
   },
   "file_extension": ".py",
   "mimetype": "text/x-python",
   "name": "python",
   "nbconvert_exporter": "python",
   "pygments_lexer": "ipython3",
   "version": "3.7.3"
  }
 },
 "nbformat": 4,
 "nbformat_minor": 2
}
